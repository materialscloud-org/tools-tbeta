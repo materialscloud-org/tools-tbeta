{
 "cells": [
  {
   "cell_type": "code",
   "execution_count": 1,
   "metadata": {},
   "outputs": [
    {
     "data": {
      "application/vnd.jupyter.widget-view+json": {
       "model_id": "8010bd48aaf0445ca84044ccbd2d63e7",
       "version_major": 2,
       "version_minor": 0
      },
      "text/plain": [
       "Image(value=b'\\x89PNG\\r\\n\\x1a\\n\\x00\\x00\\x00\\rIHDR\\x00\\x00\\x12\\xbe\\x00\\x00\\x03\\xfa\\x08\\x02\\x00\\x00\\x00W\\xad\\r\\'…"
      ]
     },
     "metadata": {},
     "output_type": "display_data"
    }
   ],
   "source": [
    "import ipywidgets as widgets\n",
    "file = open(\"images/Logo_for_app_3.png\", \"rb\")\n",
    "image = file.read()\n",
    "logo=widgets.Image(\n",
    "    value=image,\n",
    "    format='png',\n",
    "    width=300,\n",
    "    height=400,\n",
    ")\n",
    "logo"
   ]
  },
  {
   "cell_type": "markdown",
   "metadata": {},
   "source": [
    "# Tight-Binding Electronic Transport Application for graphene nanoribbon junctions"
   ]
  },
  {
   "cell_type": "code",
   "execution_count": 2,
   "metadata": {},
   "outputs": [
    {
     "data": {
      "application/vnd.jupyter.widget-view+json": {
       "model_id": "9adcd9136cc14a6eaa0b98015b7a52a1",
       "version_major": 2,
       "version_minor": 0
      },
      "text/plain": [
       "Accordion(children=(HTML(value=\"<b>TBETA</b> provides a simple graphical interface for building structures of …"
      ]
     },
     "metadata": {},
     "output_type": "display_data"
    }
   ],
   "source": [
    "accordion = widgets.Accordion(children=[widgets.HTML(value=\"<b>TBETA</b> provides a simple graphical interface for building structures of two-terminal junctions of graphene nanoribbons (GNRs) at angles 60°, 120° and 180°. The electronic structure and transport properties of the constructed junctions are calculated using the 1st, 2nd or 3rd nearest-neighbour tight-binding model in combination with the Landauer-Büttiker formalism and Green's function techniques. <br /> <br /> Version 1.1.0, 07.05.2021\"),\n",
    "                                        widgets.HTML(value=\"<b>To design the junction structure:</b> <br /> 1)Select the desired junction angle, width of GNR leads and four additional parameters called distance, shift, quantum dot width and chirality. <br /> 2)Atoms can be removed from the initial scattering region by entering the corresponding atom number(s) and then pressing the <i>'Remove atoms'</i> button <br /> 3)Initial structure template with no atoms removed can be reset by pressing <i>'Reset system'</i> <br /> <b>The electronic structure and transport properties are calculated:</b> <br />1)Conductance and density of states (DOS) are calculated in a selected energy range by adjusting the <i>'min'</i> and <i>'max'</i> energy values and pressing the <i>Calculate</i> button<br />2)Local density of states, local current map and wavefunctions in the lead channels are displayed for a selected single energy value defined in terms of the tight-binding hopping integral <i>t</i>\") ,\n",
    "                                        widgets.HTML(value=\"The numerical calculations are performed using the Kwant code: C. W. Groth, M. Wimmer, A. R. Akhmerov, X. Waintal, Kwant: a software package for quantum transport, New J. Phys. 16, 063065 (2014). <br /> The authors are financially supported by the Swiss National Science Foundation (Grant No. 172534) and the NCCR MARVEL.\"),\n",
    "                                        widgets.HTML(value=\"Kristians Cernevics, Antoine Aragon, Valeria Granata, Oleg V. Yazyev, Tight-Binding Electronic Transport Application (TBETA) for graphene nanoribbon junctions, Materials Cloud Archive 2020.66 (2020) <br /> DOI: 10.24435/materialscloud:av-24\")])\n",
    "accordion.set_title(0, 'About')\n",
    "accordion.set_title(1, 'Instructions')\n",
    "accordion.set_title(2, 'Acknowledgments')\n",
    "accordion.set_title(3, 'Authors and How to Cite')\n",
    "accordion"
   ]
  },
  {
   "cell_type": "markdown",
   "metadata": {},
   "source": []
  },
  {
   "cell_type": "markdown",
   "metadata": {},
   "source": [
    "[Start the application](TBETA.ipynb)"
   ]
  },
  {
   "cell_type": "markdown",
   "metadata": {
    "vscode": {
     "languageId": "html"
    }
   },
   "source": [
    "<a href=\"/voila/render/TBETA.ipynb\">Start</a>"
   ]
  },
  {
   "cell_type": "markdown",
   "metadata": {},
   "source": [
    "<a href=\"./TBETA.ipynb\">Start</a>"
   ]
  },
  {
   "cell_type": "code",
   "execution_count": null,
   "metadata": {},
   "outputs": [],
   "source": []
  },
  {
   "cell_type": "code",
   "execution_count": null,
   "metadata": {},
   "outputs": [],
   "source": []
  }
 ],
 "metadata": {
  "kernelspec": {
   "display_name": "Python 3",
   "language": "python",
   "name": "python3"
  },
  "language_info": {
   "codemirror_mode": {
    "name": "ipython",
    "version": 3
   },
   "file_extension": ".py",
   "mimetype": "text/x-python",
   "name": "python",
   "nbconvert_exporter": "python",
   "pygments_lexer": "ipython3",
   "version": "3.7.3"
  }
 },
 "nbformat": 4,
 "nbformat_minor": 2
}
